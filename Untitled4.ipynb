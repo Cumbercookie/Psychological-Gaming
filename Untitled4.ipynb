{
  "nbformat": 4,
  "nbformat_minor": 0,
  "metadata": {
    "colab": {
      "provenance": [],
      "authorship_tag": "ABX9TyPuie9yhILy63MWjRx0IFiV",
      "include_colab_link": true
    },
    "kernelspec": {
      "name": "python3",
      "display_name": "Python 3"
    },
    "language_info": {
      "name": "python"
    }
  },
  "cells": [
    {
      "cell_type": "markdown",
      "metadata": {
        "id": "view-in-github",
        "colab_type": "text"
      },
      "source": [
        "<a href=\"https://colab.research.google.com/github/Cumbercookie/Psychological-Gaming/blob/main/Untitled4.ipynb\" target=\"_parent\"><img src=\"https://colab.research.google.com/assets/colab-badge.svg\" alt=\"Open In Colab\"/></a>"
      ]
    },
    {
      "cell_type": "code",
      "source": [
        "import pandas as pd\n"
      ],
      "metadata": {
        "id": "i6JPeI-1bLHR"
      },
      "execution_count": 17,
      "outputs": []
    },
    {
      "cell_type": "code",
      "source": [
        "# Load the data\n",
        "df = pd.read_csv(\"/content/MI-BCI.csv\")\n",
        "df.rename(columns={'EEG Channel 1':'Channel1',\n",
        "                   'EEG Channel 2':'Channel2',\n",
        "                   'EEG Channel 3':'Channel3',\n",
        "                   'EEG Channel 4':'Channel4',\n",
        "                   'EEG Channel 5':'Channel5',\n",
        "                   'EEG Channel 6':'Channel6',\n",
        "                   'EEG Channel 7':'Channel7',\n",
        "                   'EEG Channel 8':'Channel8',\n",
        "                   'EEG Channel 9':'Channel9',\n",
        "                   'EEG Channel 10':'Channel10',\n",
        "                   'EEG Channel 11':'Channel11',\n",
        "                   'EEG Channel 12':'Channel12',\n",
        "                   'Class Label':'Class'}, inplace=True)"
      ],
      "metadata": {
        "id": "Ouf4kk10a-v1"
      },
      "execution_count": 27,
      "outputs": []
    },
    {
      "cell_type": "code",
      "execution_count": 28,
      "metadata": {
        "colab": {
          "base_uri": "https://localhost:8080/"
        },
        "id": "qfdXwmz9aEMa",
        "outputId": "874acb4f-1dd6-4339-a65b-7e6f6f5f27bf"
      },
      "outputs": [
        {
          "output_type": "stream",
          "name": "stdout",
          "text": [
            "<class 'pandas.core.frame.DataFrame'>\n",
            "RangeIndex: 182 entries, 0 to 181\n",
            "Data columns (total 13 columns):\n",
            " #   Column     Non-Null Count  Dtype  \n",
            "---  ------     --------------  -----  \n",
            " 0   Channel1   182 non-null    float64\n",
            " 1   Channel2   182 non-null    float64\n",
            " 2   Channel3   182 non-null    float64\n",
            " 3   Channel4   182 non-null    float64\n",
            " 4   Channel5   182 non-null    float64\n",
            " 5   Channel6   182 non-null    float64\n",
            " 6   Channel7   182 non-null    float64\n",
            " 7   Channel8   182 non-null    float64\n",
            " 8   Channel9   182 non-null    float64\n",
            " 9   Channel10  182 non-null    float64\n",
            " 10  Channel11  182 non-null    float64\n",
            " 11  Channel12  182 non-null    float64\n",
            " 12  Class      182 non-null    int64  \n",
            "dtypes: float64(12), int64(1)\n",
            "memory usage: 18.6 KB\n",
            "None\n",
            "Channel1     0\n",
            "Channel2     0\n",
            "Channel3     0\n",
            "Channel4     0\n",
            "Channel5     0\n",
            "Channel6     0\n",
            "Channel7     0\n",
            "Channel8     0\n",
            "Channel9     0\n",
            "Channel10    0\n",
            "Channel11    0\n",
            "Channel12    0\n",
            "Class        0\n",
            "dtype: int64\n",
            "         Channel1    Channel2    Channel3    Channel4    Channel5    Channel6  \\\n",
            "count  182.000000  182.000000  182.000000  182.000000  182.000000  182.000000   \n",
            "mean    -0.009489   -0.003306   -0.007802   -0.012154   -0.001945   -0.005018   \n",
            "std      0.482749    0.383890    0.343152    0.413270    0.476750    0.404241   \n",
            "min     -2.034600   -1.004900   -0.912080   -1.107400   -1.077700   -1.072900   \n",
            "25%     -0.291970   -0.233442   -0.220965   -0.263877   -0.337670   -0.234460   \n",
            "50%     -0.002915   -0.003512    0.002436    0.000515   -0.016276   -0.003484   \n",
            "75%      0.322845    0.229325    0.214993    0.263823    0.374000    0.262180   \n",
            "max      1.000000    1.000000    1.000000    1.000000    1.000000    1.000000   \n",
            "\n",
            "         Channel7    Channel8    Channel9   Channel10   Channel11   Channel12  \\\n",
            "count  182.000000  182.000000  182.000000  182.000000  182.000000  182.000000   \n",
            "mean    -0.007884    0.001794   -0.006133   -0.006127    0.004162   -0.004176   \n",
            "std      0.458312    0.387014    0.490317    0.428349    0.343934    0.334106   \n",
            "min     -1.651000   -1.023600   -1.863700   -1.604400   -0.882770   -1.087000   \n",
            "25%     -0.293395   -0.238755   -0.311192   -0.231673   -0.201565   -0.195408   \n",
            "50%      0.004308    0.017011    0.039223    0.005055   -0.010669   -0.030398   \n",
            "75%      0.286415    0.270253    0.335520    0.229145    0.206430    0.172882   \n",
            "max      1.000000    1.000000    1.000000    1.000000    1.000000    1.000000   \n",
            "\n",
            "            Class  \n",
            "count  182.000000  \n",
            "mean     1.285714  \n",
            "std      0.453000  \n",
            "min      1.000000  \n",
            "25%      1.000000  \n",
            "50%      1.000000  \n",
            "75%      2.000000  \n",
            "max      2.000000  \n"
          ]
        }
      ],
      "source": [
        "# DATA EXPLORATION\n",
        "# Display basic information about the dataset\n",
        "print(df.info())\n",
        "# Check for missing values\n",
        "print(df.isnull().sum())\n",
        "#Display descriptive statistics\n",
        "print(df.describe())"
      ]
    },
    {
      "cell_type": "code",
      "source": [
        "# DATA CLEANING\n",
        "# Remove rows with missing values\n",
        "df.dropna(inplace=True)\n"
      ],
      "metadata": {
        "id": "UZ1GghVbhsD-"
      },
      "execution_count": 29,
      "outputs": []
    },
    {
      "cell_type": "code",
      "source": [
        "# DATA EXPLORATION\n",
        "# Display basic information about the dataset\n",
        "print(df.info())\n",
        "# Check for missing values\n",
        "print(df.isnull().sum())\n",
        "#Display descriptive statistics\n",
        "print(df.describe())"
      ],
      "metadata": {
        "colab": {
          "base_uri": "https://localhost:8080/"
        },
        "id": "1ZG0iPIoh3wC",
        "outputId": "5bd43641-b97b-4d9e-d8e5-20d434652119"
      },
      "execution_count": 30,
      "outputs": [
        {
          "output_type": "stream",
          "name": "stdout",
          "text": [
            "<class 'pandas.core.frame.DataFrame'>\n",
            "RangeIndex: 182 entries, 0 to 181\n",
            "Data columns (total 13 columns):\n",
            " #   Column     Non-Null Count  Dtype  \n",
            "---  ------     --------------  -----  \n",
            " 0   Channel1   182 non-null    float64\n",
            " 1   Channel2   182 non-null    float64\n",
            " 2   Channel3   182 non-null    float64\n",
            " 3   Channel4   182 non-null    float64\n",
            " 4   Channel5   182 non-null    float64\n",
            " 5   Channel6   182 non-null    float64\n",
            " 6   Channel7   182 non-null    float64\n",
            " 7   Channel8   182 non-null    float64\n",
            " 8   Channel9   182 non-null    float64\n",
            " 9   Channel10  182 non-null    float64\n",
            " 10  Channel11  182 non-null    float64\n",
            " 11  Channel12  182 non-null    float64\n",
            " 12  Class      182 non-null    int64  \n",
            "dtypes: float64(12), int64(1)\n",
            "memory usage: 18.6 KB\n",
            "None\n",
            "Channel1     0\n",
            "Channel2     0\n",
            "Channel3     0\n",
            "Channel4     0\n",
            "Channel5     0\n",
            "Channel6     0\n",
            "Channel7     0\n",
            "Channel8     0\n",
            "Channel9     0\n",
            "Channel10    0\n",
            "Channel11    0\n",
            "Channel12    0\n",
            "Class        0\n",
            "dtype: int64\n",
            "         Channel1    Channel2    Channel3    Channel4    Channel5    Channel6  \\\n",
            "count  182.000000  182.000000  182.000000  182.000000  182.000000  182.000000   \n",
            "mean    -0.009489   -0.003306   -0.007802   -0.012154   -0.001945   -0.005018   \n",
            "std      0.482749    0.383890    0.343152    0.413270    0.476750    0.404241   \n",
            "min     -2.034600   -1.004900   -0.912080   -1.107400   -1.077700   -1.072900   \n",
            "25%     -0.291970   -0.233442   -0.220965   -0.263877   -0.337670   -0.234460   \n",
            "50%     -0.002915   -0.003512    0.002436    0.000515   -0.016276   -0.003484   \n",
            "75%      0.322845    0.229325    0.214993    0.263823    0.374000    0.262180   \n",
            "max      1.000000    1.000000    1.000000    1.000000    1.000000    1.000000   \n",
            "\n",
            "         Channel7    Channel8    Channel9   Channel10   Channel11   Channel12  \\\n",
            "count  182.000000  182.000000  182.000000  182.000000  182.000000  182.000000   \n",
            "mean    -0.007884    0.001794   -0.006133   -0.006127    0.004162   -0.004176   \n",
            "std      0.458312    0.387014    0.490317    0.428349    0.343934    0.334106   \n",
            "min     -1.651000   -1.023600   -1.863700   -1.604400   -0.882770   -1.087000   \n",
            "25%     -0.293395   -0.238755   -0.311192   -0.231673   -0.201565   -0.195408   \n",
            "50%      0.004308    0.017011    0.039223    0.005055   -0.010669   -0.030398   \n",
            "75%      0.286415    0.270253    0.335520    0.229145    0.206430    0.172882   \n",
            "max      1.000000    1.000000    1.000000    1.000000    1.000000    1.000000   \n",
            "\n",
            "            Class  \n",
            "count  182.000000  \n",
            "mean     1.285714  \n",
            "std      0.453000  \n",
            "min      1.000000  \n",
            "25%      1.000000  \n",
            "50%      1.000000  \n",
            "75%      2.000000  \n",
            "max      2.000000  \n"
          ]
        }
      ]
    }
  ]
}